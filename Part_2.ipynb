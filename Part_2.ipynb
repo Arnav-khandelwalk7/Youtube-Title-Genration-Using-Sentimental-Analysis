{
  "nbformat": 4,
  "nbformat_minor": 0,
  "metadata": {
    "colab": {
      "name": "Part_2.ipynb",
      "provenance": [],
      "collapsed_sections": []
    },
    "kernelspec": {
      "name": "python3",
      "display_name": "Python 3"
    },
    "language_info": {
      "name": "python"
    },
    "accelerator": "GPU"
  },
  "cells": [
    {
      "cell_type": "code",
      "metadata": {
        "colab": {
          "base_uri": "https://localhost:8080/"
        },
        "id": "8p-rV6fHNhZc",
        "outputId": "955c9a47-7dd0-44e0-8aae-fd1b854b1cba"
      },
      "source": [
        "%tensorflow_version 1.x\n",
        "!pip install gpt-2-simple\n",
        "import gpt_2_simple as gpt2"
      ],
      "execution_count": null,
      "outputs": [
        {
          "output_type": "stream",
          "name": "stdout",
          "text": [
            "TensorFlow 1.x selected.\n",
            "Collecting gpt-2-simple\n",
            "  Downloading gpt_2_simple-0.8.1.tar.gz (26 kB)\n",
            "Collecting tensorflow>=2.5.1\n",
            "  Downloading tensorflow-2.7.0-cp37-cp37m-manylinux2010_x86_64.whl (489.6 MB)\n",
            "\u001b[K     |████████████████████████████████| 489.6 MB 17 kB/s \n",
            "\u001b[?25hRequirement already satisfied: regex in /usr/local/lib/python3.7/dist-packages (from gpt-2-simple) (2019.12.20)\n",
            "Requirement already satisfied: requests in /usr/local/lib/python3.7/dist-packages (from gpt-2-simple) (2.23.0)\n",
            "Requirement already satisfied: tqdm in /usr/local/lib/python3.7/dist-packages (from gpt-2-simple) (4.62.3)\n",
            "Requirement already satisfied: numpy in /usr/local/lib/python3.7/dist-packages (from gpt-2-simple) (1.19.5)\n",
            "Collecting toposort\n",
            "  Downloading toposort-1.7-py2.py3-none-any.whl (9.0 kB)\n",
            "Requirement already satisfied: wrapt>=1.11.0 in /usr/local/lib/python3.7/dist-packages (from tensorflow>=2.5.1->gpt-2-simple) (1.13.3)\n",
            "Requirement already satisfied: grpcio<2.0,>=1.24.3 in /usr/local/lib/python3.7/dist-packages (from tensorflow>=2.5.1->gpt-2-simple) (1.41.1)\n",
            "Requirement already satisfied: wheel<1.0,>=0.32.0 in /usr/local/lib/python3.7/dist-packages (from tensorflow>=2.5.1->gpt-2-simple) (0.37.0)\n",
            "Requirement already satisfied: flatbuffers<3.0,>=1.12 in /usr/local/lib/python3.7/dist-packages (from tensorflow>=2.5.1->gpt-2-simple) (2.0)\n",
            "Collecting tensorflow-estimator<2.8,~=2.7.0rc0\n",
            "  Downloading tensorflow_estimator-2.7.0-py2.py3-none-any.whl (463 kB)\n",
            "\u001b[K     |████████████████████████████████| 463 kB 45.0 MB/s \n",
            "\u001b[?25hRequirement already satisfied: opt-einsum>=2.3.2 in /usr/local/lib/python3.7/dist-packages (from tensorflow>=2.5.1->gpt-2-simple) (3.3.0)\n",
            "Requirement already satisfied: libclang>=9.0.1 in /usr/local/lib/python3.7/dist-packages (from tensorflow>=2.5.1->gpt-2-simple) (12.0.0)\n",
            "Collecting keras<2.8,>=2.7.0rc0\n",
            "  Downloading keras-2.7.0-py2.py3-none-any.whl (1.3 MB)\n",
            "\u001b[K     |████████████████████████████████| 1.3 MB 35.1 MB/s \n",
            "\u001b[?25hRequirement already satisfied: keras-preprocessing>=1.1.1 in /usr/local/lib/python3.7/dist-packages (from tensorflow>=2.5.1->gpt-2-simple) (1.1.2)\n",
            "Requirement already satisfied: absl-py>=0.4.0 in /usr/local/lib/python3.7/dist-packages (from tensorflow>=2.5.1->gpt-2-simple) (0.12.0)\n",
            "Requirement already satisfied: six>=1.12.0 in /usr/local/lib/python3.7/dist-packages (from tensorflow>=2.5.1->gpt-2-simple) (1.15.0)\n",
            "Requirement already satisfied: termcolor>=1.1.0 in /usr/local/lib/python3.7/dist-packages (from tensorflow>=2.5.1->gpt-2-simple) (1.1.0)\n",
            "Requirement already satisfied: google-pasta>=0.1.1 in /usr/local/lib/python3.7/dist-packages (from tensorflow>=2.5.1->gpt-2-simple) (0.2.0)\n",
            "Requirement already satisfied: astunparse>=1.6.0 in /usr/local/lib/python3.7/dist-packages (from tensorflow>=2.5.1->gpt-2-simple) (1.6.3)\n",
            "Requirement already satisfied: gast<0.5.0,>=0.2.1 in /usr/local/lib/python3.7/dist-packages (from tensorflow>=2.5.1->gpt-2-simple) (0.4.0)\n",
            "Requirement already satisfied: typing-extensions>=3.6.6 in /usr/local/lib/python3.7/dist-packages (from tensorflow>=2.5.1->gpt-2-simple) (3.10.0.2)\n",
            "Requirement already satisfied: h5py>=2.9.0 in /usr/local/lib/python3.7/dist-packages (from tensorflow>=2.5.1->gpt-2-simple) (3.1.0)\n",
            "Requirement already satisfied: tensorflow-io-gcs-filesystem>=0.21.0 in /usr/local/lib/python3.7/dist-packages (from tensorflow>=2.5.1->gpt-2-simple) (0.21.0)\n",
            "Requirement already satisfied: protobuf>=3.9.2 in /usr/local/lib/python3.7/dist-packages (from tensorflow>=2.5.1->gpt-2-simple) (3.17.3)\n",
            "Collecting tensorboard~=2.6\n",
            "  Downloading tensorboard-2.7.0-py3-none-any.whl (5.8 MB)\n",
            "\u001b[K     |████████████████████████████████| 5.8 MB 22.5 MB/s \n",
            "\u001b[?25hRequirement already satisfied: cached-property in /usr/local/lib/python3.7/dist-packages (from h5py>=2.9.0->tensorflow>=2.5.1->gpt-2-simple) (1.5.2)\n",
            "Requirement already satisfied: google-auth-oauthlib<0.5,>=0.4.1 in /usr/local/lib/python3.7/dist-packages (from tensorboard~=2.6->tensorflow>=2.5.1->gpt-2-simple) (0.4.6)\n",
            "Requirement already satisfied: werkzeug>=0.11.15 in /usr/local/lib/python3.7/dist-packages (from tensorboard~=2.6->tensorflow>=2.5.1->gpt-2-simple) (1.0.1)\n",
            "Requirement already satisfied: setuptools>=41.0.0 in /usr/local/lib/python3.7/dist-packages (from tensorboard~=2.6->tensorflow>=2.5.1->gpt-2-simple) (57.4.0)\n",
            "Requirement already satisfied: tensorboard-data-server<0.7.0,>=0.6.0 in /usr/local/lib/python3.7/dist-packages (from tensorboard~=2.6->tensorflow>=2.5.1->gpt-2-simple) (0.6.1)\n",
            "Requirement already satisfied: markdown>=2.6.8 in /usr/local/lib/python3.7/dist-packages (from tensorboard~=2.6->tensorflow>=2.5.1->gpt-2-simple) (3.3.4)\n",
            "Requirement already satisfied: google-auth<3,>=1.6.3 in /usr/local/lib/python3.7/dist-packages (from tensorboard~=2.6->tensorflow>=2.5.1->gpt-2-simple) (1.35.0)\n",
            "Requirement already satisfied: tensorboard-plugin-wit>=1.6.0 in /usr/local/lib/python3.7/dist-packages (from tensorboard~=2.6->tensorflow>=2.5.1->gpt-2-simple) (1.8.0)\n",
            "Requirement already satisfied: cachetools<5.0,>=2.0.0 in /usr/local/lib/python3.7/dist-packages (from google-auth<3,>=1.6.3->tensorboard~=2.6->tensorflow>=2.5.1->gpt-2-simple) (4.2.4)\n",
            "Requirement already satisfied: rsa<5,>=3.1.4 in /usr/local/lib/python3.7/dist-packages (from google-auth<3,>=1.6.3->tensorboard~=2.6->tensorflow>=2.5.1->gpt-2-simple) (4.7.2)\n",
            "Requirement already satisfied: pyasn1-modules>=0.2.1 in /usr/local/lib/python3.7/dist-packages (from google-auth<3,>=1.6.3->tensorboard~=2.6->tensorflow>=2.5.1->gpt-2-simple) (0.2.8)\n",
            "Requirement already satisfied: requests-oauthlib>=0.7.0 in /usr/local/lib/python3.7/dist-packages (from google-auth-oauthlib<0.5,>=0.4.1->tensorboard~=2.6->tensorflow>=2.5.1->gpt-2-simple) (1.3.0)\n",
            "Requirement already satisfied: importlib-metadata in /usr/local/lib/python3.7/dist-packages (from markdown>=2.6.8->tensorboard~=2.6->tensorflow>=2.5.1->gpt-2-simple) (4.8.2)\n",
            "Requirement already satisfied: pyasn1<0.5.0,>=0.4.6 in /usr/local/lib/python3.7/dist-packages (from pyasn1-modules>=0.2.1->google-auth<3,>=1.6.3->tensorboard~=2.6->tensorflow>=2.5.1->gpt-2-simple) (0.4.8)\n",
            "Requirement already satisfied: chardet<4,>=3.0.2 in /usr/local/lib/python3.7/dist-packages (from requests->gpt-2-simple) (3.0.4)\n",
            "Requirement already satisfied: urllib3!=1.25.0,!=1.25.1,<1.26,>=1.21.1 in /usr/local/lib/python3.7/dist-packages (from requests->gpt-2-simple) (1.24.3)\n",
            "Requirement already satisfied: certifi>=2017.4.17 in /usr/local/lib/python3.7/dist-packages (from requests->gpt-2-simple) (2021.10.8)\n",
            "Requirement already satisfied: idna<3,>=2.5 in /usr/local/lib/python3.7/dist-packages (from requests->gpt-2-simple) (2.10)\n",
            "Requirement already satisfied: oauthlib>=3.0.0 in /usr/local/lib/python3.7/dist-packages (from requests-oauthlib>=0.7.0->google-auth-oauthlib<0.5,>=0.4.1->tensorboard~=2.6->tensorflow>=2.5.1->gpt-2-simple) (3.1.1)\n",
            "Requirement already satisfied: zipp>=0.5 in /usr/local/lib/python3.7/dist-packages (from importlib-metadata->markdown>=2.6.8->tensorboard~=2.6->tensorflow>=2.5.1->gpt-2-simple) (3.6.0)\n",
            "Building wheels for collected packages: gpt-2-simple\n",
            "  Building wheel for gpt-2-simple (setup.py) ... \u001b[?25l\u001b[?25hdone\n",
            "  Created wheel for gpt-2-simple: filename=gpt_2_simple-0.8.1-py3-none-any.whl size=24576 sha256=639af091f3bb43d61a9f9a31cd95db2a031babb9ecfe80737452131aecf923c6\n",
            "  Stored in directory: /root/.cache/pip/wheels/d6/89/8a/f5de6944286d1ac2658b0caa7eae3c8cda50f770cdc957217f\n",
            "Successfully built gpt-2-simple\n",
            "Installing collected packages: tensorflow-estimator, tensorboard, keras, toposort, tensorflow, gpt-2-simple\n",
            "  Attempting uninstall: tensorflow-estimator\n",
            "    Found existing installation: tensorflow-estimator 1.15.1\n",
            "    Uninstalling tensorflow-estimator-1.15.1:\n",
            "      Successfully uninstalled tensorflow-estimator-1.15.1\n",
            "  Attempting uninstall: tensorboard\n",
            "    Found existing installation: tensorboard 1.15.0\n",
            "    Uninstalling tensorboard-1.15.0:\n",
            "      Successfully uninstalled tensorboard-1.15.0\n",
            "  Attempting uninstall: keras\n",
            "    Found existing installation: Keras 2.3.1\n",
            "    Uninstalling Keras-2.3.1:\n",
            "      Successfully uninstalled Keras-2.3.1\n",
            "  Attempting uninstall: tensorflow\n",
            "    Found existing installation: tensorflow 1.15.2\n",
            "    Uninstalling tensorflow-1.15.2:\n",
            "      Successfully uninstalled tensorflow-1.15.2\n",
            "Successfully installed gpt-2-simple-0.8.1 keras-2.7.0 tensorboard-2.7.0 tensorflow-2.7.0 tensorflow-estimator-2.7.0 toposort-1.7\n"
          ]
        }
      ]
    },
    {
      "cell_type": "code",
      "metadata": {
        "colab": {
          "base_uri": "https://localhost:8080/"
        },
        "id": "3mZI_6KiNzFr",
        "outputId": "704a8753-7574-4539-bd76-357ad9dab98e"
      },
      "source": [
        "gpt2.download_gpt2(model_name=\"124M\")"
      ],
      "execution_count": null,
      "outputs": [
        {
          "output_type": "stream",
          "name": "stderr",
          "text": [
            "Fetching checkpoint: 1.05Mit [00:00, 517Mit/s]                                                      \n",
            "Fetching encoder.json: 1.05Mit [00:00, 6.48Mit/s]\n",
            "Fetching hparams.json: 1.05Mit [00:00, 610Mit/s]                                                    \n",
            "Fetching model.ckpt.data-00000-of-00001: 498Mit [00:10, 47.2Mit/s]                                  \n",
            "Fetching model.ckpt.index: 1.05Mit [00:00, 440Mit/s]                                                \n",
            "Fetching model.ckpt.meta: 1.05Mit [00:00, 10.6Mit/s]                                                \n",
            "Fetching vocab.bpe: 1.05Mit [00:00, 8.78Mit/s]\n"
          ]
        }
      ]
    },
    {
      "cell_type": "code",
      "metadata": {
        "id": "EbGaW3nuD0hS"
      },
      "source": [
        "data = pd.read_csv('search_results.csv')\n",
        "data"
      ],
      "execution_count": null,
      "outputs": []
    },
    {
      "cell_type": "code",
      "metadata": {
        "id": "8HAWoauAD1iF"
      },
      "source": [
        "title_list = []\n",
        "for index, row in data.iterrows():\n",
        "    title_list.append(row['stop_title'])\n",
        "\n",
        "for index, x in enumerate(title_list):\n",
        "    print(index, x)"
      ],
      "execution_count": null,
      "outputs": []
    },
    {
      "cell_type": "code",
      "metadata": {
        "id": "f8dzlFrAD9U-"
      },
      "source": [
        "text_title = 'title_list.txt'"
      ],
      "execution_count": null,
      "outputs": []
    },
    {
      "cell_type": "code",
      "metadata": {
        "id": "48sqy4VOD_XN"
      },
      "source": [
        "with open(text_title, 'w') as output:\n",
        "    for title in title_list:\n",
        "        output.write(str(title) + ' ')"
      ],
      "execution_count": null,
      "outputs": []
    },
    {
      "cell_type": "code",
      "metadata": {
        "id": "w9WH3wJYNz9K"
      },
      "source": [
        "file1 = \"title_lists.txt\""
      ],
      "execution_count": null,
      "outputs": []
    },
    {
      "cell_type": "code",
      "metadata": {
        "colab": {
          "base_uri": "https://localhost:8080/"
        },
        "id": "E1Mh_9YVN1dg",
        "outputId": "490e7ec1-56a3-4789-ba1e-529ed805e385"
      },
      "source": [
        "sess = gpt2.start_tf_sess()\n",
        "gpt2.finetune(\n",
        "    sess,\n",
        "    dataset=file1,\n",
        "    model_name='124M',\n",
        "    steps=200,\n",
        "    restore_from='fresh',\n",
        "    sample_every=20,\n",
        "    save_every=20\n",
        ")"
      ],
      "execution_count": null,
      "outputs": [
        {
          "output_type": "stream",
          "name": "stdout",
          "text": [
            "Loading checkpoint models/124M/model.ckpt\n",
            "INFO:tensorflow:Restoring parameters from models/124M/model.ckpt\n",
            "Loading dataset...\n"
          ]
        },
        {
          "output_type": "stream",
          "name": "stderr",
          "text": [
            "100%|██████████| 1/1 [00:00<00:00, 1245.34it/s]"
          ]
        },
        {
          "output_type": "stream",
          "name": "stdout",
          "text": [
            "dataset has 3834 tokens\n",
            "Training...\n"
          ]
        },
        {
          "output_type": "stream",
          "name": "stderr",
          "text": [
            "\n"
          ]
        },
        {
          "output_type": "stream",
          "name": "stdout",
          "text": [
            "[1 | 10.10] loss=3.42 avg=3.42\n",
            "[2 | 14.38] loss=3.71 avg=3.56\n",
            "[3 | 18.65] loss=3.59 avg=3.57\n",
            "[4 | 22.96] loss=3.67 avg=3.60\n",
            "[5 | 27.24] loss=2.97 avg=3.47\n",
            "[6 | 31.55] loss=3.02 avg=3.39\n",
            "[7 | 35.85] loss=2.66 avg=3.28\n",
            "[8 | 40.16] loss=3.03 avg=3.25\n",
            "[9 | 44.47] loss=2.71 avg=3.19\n",
            "[10 | 48.80] loss=2.69 avg=3.14\n",
            "[11 | 53.12] loss=2.61 avg=3.09\n",
            "[12 | 57.46] loss=2.69 avg=3.05\n",
            "[13 | 61.81] loss=1.77 avg=2.95\n",
            "[14 | 66.17] loss=2.41 avg=2.91\n",
            "[15 | 70.53] loss=1.57 avg=2.81\n",
            "[16 | 74.90] loss=2.27 avg=2.77\n",
            "[17 | 79.25] loss=2.22 avg=2.74\n",
            "[18 | 83.62] loss=1.49 avg=2.66\n",
            "[19 | 87.96] loss=1.94 avg=2.62\n",
            "[20 | 92.31] loss=1.38 avg=2.55\n",
            "Saving checkpoint/run1/model-20\n",
            "======== SAMPLE 1 ========\n",
            "Z\n",
            "\n",
            "FUCKER SPIES 4TH AVENGER GAME WITH AI MAJOR SPIDERMAN AI BEHIND GODDESS ALIEN CAFILLED GODDESS NEW WAR ZONE GODDESS ALIEN WARZONE 9K No Update Update 0.2 NEW WAR ZONE ALLIES SUPERHERO GOLEM WARZONE 1000TROLL FREEZ ALL 14 No Update Update 0.1.09 Added INFINITE MACHINE DEEP TROLL GAME CHALLENGE SOLO MANCIPINO REALISTISCHE BENCH WITH ME IN NEW WARZONE HACKER VS DEEP GOLEM Vs GOD GOLEM ALIEN WARZONE 81 000 No Update Update 0.2 NEW WARZONE ALLIES SUPERHERO GOLEM WARZONE 1000TROLL FREEZ ALL 14 No Update Update 0.1.04 Added INFINITY SPIDERMAN COD GOLEM GOLEM NEW WAR ZONE ALLIES SUPERHERO GOLEM GOLEM MACHINE TROLL X 902 PSI NEW WARZONE BEST BUILD I NEVER PLAYED VS WEREWOLF VS I ZOMBIE COD GOLEM KILL ME SOLO MANCIPINO REALISTISCHE BENCH WITH ME IN NEW WARZONE HACKER VS DEEP GOLEM Vs GOD GOLEM ALIEN WARZONE 81 000 No Update Update 1.6 NEW WARZONE HACKER VS DEEP GOLEM CALL OF DUTY VILLAGE PC PC PS4 PS5 NEW WARZONE TOP 1000 BEST BUILD 6 NEW WARZONES 26 Minecraft 100 000 0.5 Walkthrough No Update Update 0.1.07 NEW WARZONE ZONE MOVIE PS5 I TROLLED DEAD X X X X X X PS4 PS6 NEW WARZONE BEST BUILD 6 HOLD ME POPPY GOLEM GHOST SDCRE MEMES GAMEPLAY TROLL VS DEEP SPIDERMAN CAF TOP TROLL SQUADS HAPPEN DOGS SPAWN BEST VOICE InnaHearN Most Played WW2 Battlefield 3 Gameplay In Real Life Gameplay Demo InUnmatureGo Out With The Most Villager in 2 Days In Tournament Finals Minecraft 100 000 0 SUPER SPIDERMAN 2 GOLEM GOLEM AI BEAT VS HAT GOLEM GODDESS ALIEN ALLOCANT VS OP GOLEM GOLEM TROLL X 902 PSI NEW WARZONEST 1 MOBA I NEVER PLAYED TOP SMALL BUILD 1000I NEVER PLAYED 100% COMPLETE IN 50 DOOM PS5 PS6 PS7 PS8 WATCH WHAT HAPPENS PS6 X 902 PS5 X 1080p PS6 PS7 PS8 NEW WARZONE BEST MESSAGE I KNEW IT ALL... 1000 BLOB CHANGED OP DEEP POPPY GOLEM GOLEM GOLEM GHOST CRIMINAL ROX CON N CA DE DE GO ZO WARZONEST I HAD NO HUG MULTI GOLEM 14 ST TROLL KILL MOBA TROLL MOVE TROLL BACK CAF TROLL KILL VILLAGE MOBILE SPIDERMAN WEAPON FIGHT IN SPIDERMAN GO TROLL GHOST SOLO MOBIE WARZ ALL DESTROYED IMPOSSIBLE NEW WARZONE BEST SMALL BUILD 100 000 0 FAR CABINET PS5 VS PS6 PS7 PS8 PS9 PS10 NEW WARZONE BEST MULTI GOLEM MUCF ANIMATION PSYCHISTS VILLAGE GOLEM VESSEL 100 TROLL DEAD POISONED SPAWN KILL 10 1000 SUPER SMOKE PRO BEY DEEP TROLE LEAGUE PLAY ZOMBIES VULNERABLE GHOST IMPOSSIBLE GOLEM SOLO WARZESTAR VILLAGE 100 NEW WARZONE BEST MOBILE GOLEM PS5 PS6 PS7 PS8 PS9 FULL GAME PS5 PS6 PS56 PS6 PS55 NEW WARZONE BEST MOBAREWAY PSM COD GOLEM EVIL SQUADS SQUID GAMEPLAY PSY TOP HUG GAP WEREWOLF VAPATING CHILD PLAYED BY MOB InS VREID Destiny Bad Ass League 1v1 PS5 PS6 PS6 PS7 FULL GAME PS5 PS56 PS56 X360 PS6 PS5Z FULL GAME PS5 PS56 PS55 PS5CHALLENCH WEREWOLF PSY COD VS PLAY MOB DeEP PSY CREEP PSY HACK X Box Office Call of Duty Modern Warfare PS3 PS4 PS5 PS56 FULL GAME PS5 PS56 FULL GAME UNLOCKED PS\n",
            "\n",
            "[21 | 119.46] loss=1.21 avg=2.48\n",
            "[22 | 123.82] loss=1.08 avg=2.41\n",
            "[23 | 128.17] loss=1.10 avg=2.35\n",
            "[24 | 132.52] loss=1.01 avg=2.29\n",
            "[25 | 136.87] loss=0.96 avg=2.23\n",
            "[26 | 141.21] loss=0.67 avg=2.16\n",
            "[27 | 145.56] loss=0.75 avg=2.10\n",
            "[28 | 149.91] loss=0.54 avg=2.04\n",
            "[29 | 154.26] loss=0.44 avg=1.97\n",
            "[30 | 158.60] loss=0.32 avg=1.91\n",
            "[31 | 162.94] loss=0.35 avg=1.85\n",
            "[32 | 167.29] loss=0.31 avg=1.80\n",
            "[33 | 171.63] loss=0.20 avg=1.74\n",
            "[34 | 175.97] loss=0.16 avg=1.68\n",
            "[35 | 180.31] loss=0.17 avg=1.63\n",
            "[36 | 184.65] loss=0.09 avg=1.58\n",
            "[37 | 189.01] loss=0.16 avg=1.54\n",
            "[38 | 193.36] loss=0.33 avg=1.50\n",
            "[39 | 197.70] loss=0.09 avg=1.46\n",
            "[40 | 202.04] loss=0.07 avg=1.41\n",
            "Saving checkpoint/run1/model-40\n",
            "WARNING:tensorflow:From /usr/local/lib/python3.7/dist-packages/tensorflow/python/training/saver.py:1058: remove_checkpoint (from tensorflow.python.training.checkpoint_management) is deprecated and will be removed in a future version.\n",
            "Instructions for updating:\n",
            "Use standard file APIs to delete files with this prefix.\n",
            "======== SAMPLE 1 ========\n",
            " Premiere Series in Minecraft\n",
            "\n",
            "Minecraft to Epic Poppy Playtime Minecraft DayZ Battle Royale 24 Playtime Time 1.3 m3ughS MEGA BEST SNYDER IN MAZDAI MAQUI SERIES PLAYTIME WITHTERSMinecraft blast through the in game world and in game world to discover the world the MCU is in love withMinecraft but there s Custom BoatsHe s Modded Super Saiyan God w/ Super Apples Approximate Health Before They CryMinecraft but there s CRAZY TNTMinecraft wait what meme part 144 realistic n huggy wuggy Saving SPIDERMAN in Minecraft Becoming an EVIL AI in Minecraft Minecraft Live 2021 Update HighlightsSummoner Vs. Mowzie s Mobs Monsters in MinecraftMinecraft but there s Custom SUPERHERO HeartsUsing The DAYCARE Mod In Minecraft Aphmau Has NO VOICE In Minecraft Testing Scary Minecraft Myths That re Actually TrueMinecraft MAAR ALLES Is SUPER REALISTISCH I Built an OP Nether Hub in Minecraft Hardcore 29 Minecraft I Spent 100 Days In The Void minecraft Minecraft wait what meme part 144 realistic n huggy wuggy Saving SPIDERMAN in Minecraft Becoming an EVIL AI in Minecraft Minecraft Live 2021 Update HighlightsSummoner Vs. Mowzie s Mobs Monsters in MinecraftMinecraft but there s Custom SUPERHERO HeartsUsing The DAYCARE Mod In Minecraft Aphmau Has NO VOICE In Minecraft Testing Scary Minecraft Myths That re Actually True NEW WARZONE BEST HIGHLIGHTS Epic Funny Moments 609Call of Duty Modern Warfare Warzone Solo Gameplay No Commentary Reveal Trailer Call of Duty VanguardVanguard is the worst selling Call of Duty in 14 YEARS LMAOGoodbye MP40 Hello STEN Call of Duty Vanguard.. COD Vanguard Best STEN Class Setup Evolution of Call of Duty Games 2003 2020Call of Duty Vanguard Angry Review Call of Duty Vanguard came out but did it have toCall of Duty Warzone Battle Royale Solo No Commentary Call of Duty Vanguard Reveal Trailer PS5 PS4CALL OF DUTY VANGUARD PS5 Walkthrough Gameplay Part 1 INTRO COD Campaign Call of Duty Warzone Battle Royal Solo Gameplay No Commentary Call of Duty Vanguard Reveal Trailer PS5 PS5CALL OF DUTY VANGUARD Gameplay Walkthrough Part 1 HINDI Part 4 INTRO COD Campaign CAMERAS around the world play host to memorable moments Call of Duty Black Ops Cold War WarzoneCall of Duty Modern Warfare Warzone Battle Royal Part 3 V2 Gameplay Walkthrough Part 2 Campaign CAMERAS around the world play host to memorable moments WarzoneCall of Duty Modern Warfare Warzone Battle Royal Solo Gameplay No Commentary Captain Price Vs Shepherd Call of Duty Modern Warfare 2 Ending Call of Duty Weapon Class Testing Call of Duty Modern Warfare Warzone Battle Royal Solo Gameplay No Commentary Call of Duty Vanguard World Premiere Livestream ft. VERZUZ Gamez The Haunting Trailer Call of Duty Black Ops Cold War WarzoneCall of Duty Modern Warfare Warzone Solo Gameplay No Commentary Call of Duty Modern Warfare Warzone Solo Gameplay No Commentary Story Trailer Call of Duty VanguardCall of Duty Warzone 13 KILL SOLO GAMEPLAY PS5 No Commentary I STOLE a GOLD SNIPER and DESTROYED THE LOBBY COD MOBILE SOLO VS SQUADSJEV PLAYS CALL OF DUTY VANGUARD FULL GAME 4K 60FPS No Commentary NEW WARZONE BEST HIGHLIGHTS Epic Funny Moments 609Call of Duty League 2020 Season Stage V Major Tournament Day 2He conseguido la NUCLEAR IMPOSIBLE de Call of Duty Advanced MCPE Game Day 3Dawn Lab Visiting Call of Duty Los Angeles...And More..Call Of Duty Modern Warfare Warzone Solo Gameplay No Commentary Creeper Svensmark me as the worst selling in COD Warfare COD Season 2019 FinalsCall of Duty Modern Warfare Warzone Solo Gameplay No Commentary Call Of Duty Modern Warfare Warzone Solo Gameplay No Commentary Call Of Duty League 2021 Season Stage IV Major Tournament Day 4CALL OF DUTY VANGUARD If You're Wondering How to Play Call of Duty Vanguard Best HIGHLIGHTS Epic Funny Moments 608Call of Duty League 2021 Season Stage V Major Tournament Day 5Dawn Lab Visiting Call of Duty Los Angeles and More..Call Of Duty League 2021 Season Stage IV Major Tournament Day 6Call of Duty Modern Warfare Warzone Solo Gameplay No Commentary ZOMBIEEST CALL OF DUTY VANGUARD Gameplay LIVE WITHTEN MORE...Call Of Duty League 2021 Season Stage IV Major Tournament Day 7CALL OF DUTY VANGUARD ... For NoobsCall Of Duty Vanguard Multiplayer ReviewCall of Duty Warzone Solo Gameplay No Commentary Nerf meets Call of Duty Gun Game 10 (CALL OF DUTY VANGUARD ... For NoobsCall of Duty Vanguard Multiplayer ReviewFirst Time Playing Call Of\n",
            "\n",
            "[41 | 227.17] loss=0.07 avg=1.37\n",
            "[42 | 231.51] loss=0.13 avg=1.34\n",
            "[43 | 235.85] loss=0.09 avg=1.30\n",
            "[44 | 240.19] loss=0.11 avg=1.27\n",
            "[45 | 244.54] loss=0.10 avg=1.24\n",
            "[46 | 248.88] loss=0.05 avg=1.20\n",
            "[47 | 253.22] loss=0.04 avg=1.17\n",
            "[48 | 257.54] loss=0.06 avg=1.14\n",
            "[49 | 261.90] loss=0.16 avg=1.12\n",
            "[50 | 266.25] loss=0.08 avg=1.09\n",
            "[51 | 270.59] loss=0.05 avg=1.07\n",
            "[52 | 274.92] loss=0.09 avg=1.04\n",
            "[53 | 279.26] loss=0.04 avg=1.02\n",
            "[54 | 283.59] loss=0.03 avg=0.99\n",
            "[55 | 287.94] loss=0.04 avg=0.97\n",
            "[56 | 292.28] loss=0.04 avg=0.95\n",
            "[57 | 296.62] loss=0.03 avg=0.93\n",
            "[58 | 300.96] loss=0.03 avg=0.91\n",
            "[59 | 305.30] loss=0.10 avg=0.89\n",
            "[60 | 309.64] loss=0.02 avg=0.87\n",
            "Saving checkpoint/run1/model-60\n",
            "======== SAMPLE 1 ========\n",
            "ADS COD MOBILE SOLO VS SQUADSCOM BATTLECALL GIGANTE IMPOSIBLE I Survived 100 Days on an EVA Test Void Hill Minecraft But There are Super Apples I Survived 100 Days as a DOG in Minecraft 1.19 The Wild UpdateTesting Viral Minecraft Block Facts That Broke The InternetHeeko Son Vs Squid Guard Revenge In Squid Game Monster School Minecraft AnimationMinecraft Manhunt But Trash Gives OP ItemsWhat if you SPAWN SUPER LONG ZOMBIE VS LONG CREEPER in Minecraft SUPER LONG MOB Adopted By TOP SECRET SPIES In Minecraft 1.19 The Wild UpdateTesting Viral Minecraft Block Facts That Broke The InternetHei Mani Moda ExtraVid Part 1in Minecraft Happy New Year everyone!...And For The 1.19 Update... Here Are The Best Minecraft Mods.. Santa Giveaway AnimeOne Night In POPPY S PLAYTIME In Minecraft I Survived 2 200 Days in Minecraft.. LMAOGoodbye Xbox Ones Xbox Ones Box Art Xbox Ones Minecraft HULK CALLED ALIEN MOON TEDDY GAMINGME PASO MINECRAFT Minecraft FAMILY BUILD A HOUSE Minecraft But With Custom IAPsIn Minecraft The Far East I Survived 100 Days on a STAR in Minecraft.. Here AreThe Best Minecraft Mods..<|endoftext|>This early 3D rework of the Warcraft RPG World of Warcraft is part of a Pacific expansion and should be complete in 5 MONTHS. Before you buy or if you decide to BUY a copy of World War Warcraft... World War Z...I Survived 100 Days in a Frozen Zombie Apocalypse in World of WarcraftTroll Movie Reveal Trailer For World War Z EpisodeZombies Der Anfang Intro Cinematic at BlizzConWorldwide BlizzCon Has END GAME VODLE Wednesday, 29TH October 2016RANKSGIVING into our 100 DAY Kickstarter campaign, I'd like to extend an old friend a warm hug.I just dropped a BOSS in Pandaria and while I have a Dream Quest to complete in 24 hours I still have a LONG way to go before I get my hands on the BOSS...The Warden...ZooNexus vs. Slug...ZooMovies, TV and more in full swing at BlizzConI dropped the FREE RED EPISODE MythBITE and did I mention I dropped a FREE ALLERGY BOSS...Call of Duty VanguardCall of Duty Vanguard is Your Guide To VanguardCrafting the Art Of A Class Warfacer Over 100 BossesIncluded in the Deluxe Box Set...a NEW ALLERGY BOSS called GODWIFE Artemis BENXIUS vs GOD WIFE BRUNO VS. SQUADSJEAL-ZOMBIE FUcking GOD WIFE With HARDCORE Friday the 13th...A Look at The New ALLards In VanguardCall of Duty Vanguard Multiplayer ReviewThe Story of VanguardCrafting the Best Misadventures In The Game...Call of Duty Vanguard Angry ReviewCall of Duty Vanguard Angry Review A Look at The New ALLards In VanguardThe Warden Is Everything I Wanted To See In VanguardCall of Duty Vanguard Angry ReviewCall of Duty Vanguard Angry Review First Look At Vanguard Multiplayer Patch 1.11B ALIEN GAUNTLETTE vs. GHOSTS IN DARK MOBILE MOB Adopted By TOP SECRET SPIES In Vanguard Multiplayer...A Look At The New ALLards...What Happens Call of Duty VanguardCall of Duty Vanguard Angry ReviewCall of Duty Vanguard Angry Review First Look At Vanguard Multiplayer Patch 1.11B ALIEN GAUNTLETTE vs. GHOSTS IN DARK MOBILE MOB Adopted By GACHA STORIES IN WARZONE ...I MISSED you Call Of Duty VanguardCall of Duty Vanguard Angry ReviewCall of Duty Vanguard Angry Review First Look At Vanguard Multiplayer Patch 1.11B ALIEN GAUNTLETTE VS. GHOSTS IN DARK MOBILE MOB Adopted By GACHA STORIES IN WARZONE ...I MISSED you Call of Duty Vanguard... Hello AllCall of Duty Vanguard Multiplayer ReviewThe Story of VanguardCrafting the Best Misadventures In The Game...Call of Duty Vanguard Angry ReviewCall of Duty Vanguard Angry Review First Look At Vanguard Multiplayer Patch 1.11B ALIEN GAUNTLETTE vs. GHOSTS IN DARK MOBILE MOB Adopted By GACHA STORIES IN WARZONE ...I MISSED you Call of Duty Vanguard... Hello AllCall of Duty Modern Warfare Warzone Battle Royale Solo Gameplay No Commentary Call Of Duty Vanguard Reveal TrailerZombies Reveal Trailer Call of Duty VanguardCall of Duty Vanguard Angry ReviewCall of Duty Vanguard Angry Review First Look At Vanguard Multiplayer Patch 1.11B ALIEN GAUNTLETTE vs. GHOSTS IN DARK MOBILE MOB Adopted By GACHA STORIES IN WARZONE ...I MISSED you Call of Duty Vanguard... Hello AllCall of\n",
            "\n",
            "[61 | 335.11] loss=0.05 avg=0.85\n",
            "[62 | 339.45] loss=0.03 avg=0.84\n",
            "[63 | 343.79] loss=0.03 avg=0.82\n",
            "[64 | 348.14] loss=0.03 avg=0.80\n",
            "[65 | 352.48] loss=0.02 avg=0.79\n",
            "[66 | 356.82] loss=0.02 avg=0.77\n",
            "[67 | 361.19] loss=0.03 avg=0.76\n",
            "[68 | 365.53] loss=0.03 avg=0.74\n",
            "[69 | 369.88] loss=0.04 avg=0.73\n",
            "[70 | 374.22] loss=0.03 avg=0.71\n",
            "[71 | 378.56] loss=0.03 avg=0.70\n",
            "[72 | 382.90] loss=0.02 avg=0.69\n",
            "[73 | 387.25] loss=0.02 avg=0.67\n",
            "[74 | 391.59] loss=0.02 avg=0.66\n",
            "[75 | 395.91] loss=0.02 avg=0.65\n",
            "[76 | 400.26] loss=0.03 avg=0.64\n",
            "[77 | 404.60] loss=0.02 avg=0.63\n",
            "[78 | 408.95] loss=0.02 avg=0.61\n",
            "[79 | 413.28] loss=0.02 avg=0.60\n",
            "[80 | 417.64] loss=0.02 avg=0.59\n",
            "Saving checkpoint/run1/model-80\n",
            "======== SAMPLE 1 ========\n",
            " Find them play Halo Call of Duty Vanguard in VR Minecraft early gameplay reveals the Vs turrets Epic Funny Moments 144Call of Duty Modern Warfare Warzone Solo Gameplay No Commentary Reveal Trailer Call of Duty VanguardVanguard is the worst selling Call of Duty in 14 YEARS LMAOGoodbye MP40 Hello STEN Call Of Duty Vanguard.. COD Vanguard Best STEN Class Setup Evolution of Call of Duty Games 2003 2020Call of Duty Vanguard Angry ReviewCall of Duty Vanguard came out but did it have toCall of Duty Warzone Battle Royale Solo No Commentary Call of Duty Vanguard Reveal Trailer PS5 PS4CALL OF DUTY VANGUARD PS5 Walkthrough Gameplay Part 1 INTRO COD Campaign Call of Duty Warzone Battle Royal Solo Gameplay No Commentary CALL OF DUTY VANGUARD Gameplay Walkthrough Part 1 Campaign FULL GAME 4K 60FPS No CommentaryAtlanta FaZe vs Toronto Ultra Championship Weekend FinalsCall of Duty Vanguard ReviewFirst Time Playing Call Of Duty Mobile...And I Cheat Why You Should NOT Buy Call of Duty Vanguard... Honest Review Call of Duty Vanguard Official Reveal TrailerZombies Reveal Trailer Call of Duty VanguardCALL OF DUTY GHOSTS PS5 Gameplay Walkthrough Part 1 Campaign FULL GAME 4K 60FPS No CommentaryLevel 1000 COMPLETE in Vanguard... What Happens Call of Duty VanguardCall of Duty Vanguard Before You BuyTr iler de La maldici n Call of Duty Black Ops Cold War y WarzoneCall of Duty Modern Warfare Warzone Battle Royale Solo Gameplay No Commentary Captain Price Vs Shepherd Call of Duty Modern Warfare 2 EndingCall of Duty Modern Warfare Warzone Battle Royale Solo Gameplay No Commentary Call of Duty Vanguard World Premiere Livestream ft. VERZUZ Gamez The Haunting Trailer Call of Duty Black Ops Cold War WarzoneCall of Duty Modern Warfare Warzone Solo Gameplay No Commentary Call of Duty Modern Warfare Warzone Solo Gameplay No Commentary Story Trailer Call of Duty VanguardCall of Duty Warzone Pacific Map CinematicLOS MEJORES VIDEOS Y MEMES DE CALL OF DUTY WARZONE 81Call of Duty Modern Warfare Warzone Solo Gameplay XBOX SERIES X No Commentary Call Of Duty Advanced Warfare Game MovieCALL OF DUTY VANGUARD ... For NoobsCall of Duty Vanguard Multiplayer ReviewThe Pacific Cinematic Part 1 Call of Duty Vanguard WarzoneCall of Duty Modern Warfare Warzone Rebirth Island Gameplay PS5 No Commentary I STOLE a GOLD SNIPER and DESTROYED THE LOBBY COD MOBILE SOLO VS SQUADSJEV PLAYS CALL OF DUTY VANGUARDCall Of Duty League 2021 Season Championship Weekend Day 1Nerf War Call of Duty Modern Warfare NEW WARZONE BEST HIGHLIGHTS Epic Funny Moments 606Call of Duty Warzone Solo Gameplay Xbox Series X No CommentaryZombies Der Anfang Intro Cinematic Call of Duty VanguardCrafting the Cinematic Experience Call of Duty VanguardFirst Look at Zombies Call of Duty VanguardCall of Duty Modern Warfare Warzone Solo Gameplay No Commentary NEW WARZONE BEST HIGHLIGHTS Epic Funny Moments 584Call Of Duty League 2021 Season Stage V Major Tournament Day 2He conseguido la NUCLEAR IMPOSIBLE de Call of Duty Vanguard AlphaSniper97 NEW WARZONE BEST HIGHLIGHTS Epic Funny Moments 607Season Six Outro Cinematic Call of Duty Black Ops Cold War Warzone NEW WARZONE BEST HIGHLIGHTS Epic Funny Moments 608History Of Call Of Duty WW2 GamesCall of Duty Modern Warfare Warzone Solo Gameplay No Commentary Call of Duty Modern Warfare Warzone Solo Gameplay No Commentary PC Trailer Call of Duty VanguardCall of Duty Warzone 13 KILL SOLO GAMEPLAY Xbox Series X No Commentary NEW HAUNTING Update in Call of Duty LAPA SMG Zombies Map SCREAM MORE Call of Duty Modern Warfare Warzone Solo Gameplay No Commentary Call Of Duty League 2021 Season Stage IV Major Tournament Day 4Stalingrad Demo Play through Call of Duty VanguardTIMTHETATMAN PLAYS CALL OF DUTY VANGUARD EXCLUSIVE FULL GAME EARLY ACCESS Call of Duty Warzone Solo Gameplay PS5 4K No Commentary NEW WARZONE BEST HIGHLIGHTS Epic Funny Moments 604 NEW WARZONE BEST HIGHLIGHTS Epic Funny Moments 586 NEW WARZONE BEST HIGHLIGHTS Epic Funny Moments 601LA SKIN SUPER SAIYAN ULTRA DE CALL OF DUTY WARZONEDestroying Toxic Players Call of Duty Mobile Battle Royale NEW WARZONE BEST HIGHLIGHTS Epic Funny Moments 605Call of Duty Modern Warfare Warzone Battle Royal Solo Win Gameplay No Commentary Activision Called Out for Use of Quran in Call of Duty ZombiesCall of Duty Warzone SOLO GAMEPLAY NO COMMENTARY Call of Duty Modern Warfare Warzone Solo Gameplay No Commentary Nerf meets Call of Duty Gun Game 9.0 First Person Shooter NEW\n",
            "\n",
            "[81 | 443.14] loss=0.02 avg=0.58\n",
            "[82 | 447.49] loss=0.04 avg=0.57\n",
            "[83 | 451.83] loss=0.02 avg=0.56\n",
            "[84 | 456.18] loss=0.02 avg=0.55\n",
            "[85 | 460.51] loss=0.02 avg=0.54\n",
            "[86 | 464.86] loss=0.02 avg=0.54\n",
            "[87 | 469.20] loss=0.02 avg=0.53\n",
            "[88 | 473.53] loss=0.02 avg=0.52\n",
            "[89 | 477.86] loss=0.02 avg=0.51\n",
            "[90 | 482.20] loss=0.02 avg=0.50\n",
            "[91 | 486.54] loss=0.01 avg=0.49\n",
            "[92 | 490.86] loss=0.02 avg=0.49\n",
            "[93 | 495.20] loss=0.02 avg=0.48\n",
            "[94 | 499.54] loss=0.01 avg=0.47\n",
            "[95 | 503.90] loss=0.02 avg=0.46\n",
            "[96 | 508.22] loss=0.01 avg=0.46\n",
            "[97 | 512.57] loss=0.02 avg=0.45\n",
            "[98 | 516.90] loss=0.02 avg=0.44\n",
            "[99 | 521.24] loss=0.02 avg=0.43\n",
            "[100 | 525.57] loss=0.01 avg=0.43\n",
            "Saving checkpoint/run1/model-100\n",
            "======== SAMPLE 1 ========\n",
            " No Playtime Solo MMR TestingGrounded No Update in Map Ops Room MinecraftTrolling As FARLANDS MAN DoORS Eventide 40th Anniversary Box Art Call of Duty VanguardCall of Duty Warzone Solo Gameplay No Commentary NEW WARZONE BEST HIGHLIGHTS Epic Funny Moments 609Call of Duty Modern Warfare Warzone Solo Gameplay No Commentary Call of Duty Vanguard World Premiere Livestream ft. VERZUZ Gamez The Haunting Trailer Call of Duty Black Ops Cold War Warzone NEW WARZONE BEST HIGHLIGHTS Epic Funny Moments 608History Of Call Of Duty WW2 GamesCall of Duty Modern Warfare Warzone Solo Gameplay No Commentary Call of Duty Modern Warfare Warzone Solo Gameplay No Commentary PC Trailer Call of Duty VanguardCall of Duty Warzone 13 KILL SOLO GAMEPLAY Xbox Series X No Commentary NEW HAUNTING Update in Call of Duty LAPA SMG Zombies Map SCREAM MORE Call of Duty Modern Warfare Warzone Solo Gameplay No Commentary Call Of Duty League 2021 Season Stage IV Major Tournament Day 4Stalingrad Demo Play through Call of Duty VanguardTrolling As FARLANDS MAN IN THE STORM Minecraft Part 1 Minecraft Animation FULL GAME 4K 60FPS No CommentaryMinecraft Lets Go CHOP The Creeper Minecraft AnimationTIME TO GO BACK ON EARTH AFTER FIGHT WITH ALIEN MOON TEDDY GAMINGME PASO MINECRAFT SIENDO UN ICEOLOGER Testing INSANE Minecraft Mining Hacks How I Spent 1 000 To End A Dumb Minecraft WarHuggy Wuggy vs SQUID GAME in Minecraft Poppy Playtime Visiting Jack s Island In Hypixel Skyblock MinecraftTesting Minecraft Block Facts That Broke The InternetHeeko Son Vs Squid Guard Revenge In Squid Game Monster School Minecraft AnimationMinecraft Manhunt But Trash Gives OP ItemsWhat if you SPAWN SUPER LONG ZOMBIE OF 1000 BLOCKS in Minecraft LONGEST ZOMBIE Minecraft I CAUGT POPPY PLAYTIME WATCHIGN ME SLEEP Ps3 Xbox360 PS4 XboxOne PE MCPE Playing SQUID GAME in Minecraft SHOPPING District er ffnet Regelwerk mein SHOP Minecraft Craft Attack 9 20I Survived 100 Days as an IRON GOLEM in MinecraftNOOB FOUND THIS FREEZ ICE VILLAGE FROZEN HOUSE BASE Minecraft NOOB vs PRO vs HACKER 100 TROLLINGI Survived 2 100 Days in HARDCORE Minecraft...I Survived 100 Days as a TIME TRAVELLER in Hardcore Minecraft... Here s What HappenedTesting Viral Minecraft Secret Bases You ll NEVER FindI tested them in Minecraft early and so should you...Minecraft But There s Custom SUPERHERO HeartsWhat if you SPAWN SUPER LONG WITHER OF 1000 BLOCKS in Minecraft LONGEST WITHER BENX REAGIERT AUF MEGA MEGA REALISTISCHES MINECRAFT I Survived 100 Days in HARDCORE Modded Minecraft 1.17.1... NEW I Spent 100 Days in a Frozen Zombie Apocalypse in MinecraftThe Warden Minecraft Movie Minecraft Animation Alex and SteveWorld s Most REALISTIC Minecraft TOO REAL Minecraft But The World Is Corrupted Dream Team Wins Minecraft ChampionshipMinecraft But With Custom Hunger Bars..REALISTIC MINECRAFT THE MOVIE 2021 How to BUILD BEST SMALLEST HOUSE in Minecraft Challenge 100 Trolling37 More Secret Minecraft Things You Didn t KnowMinecraft The 10 BEST Redstone Build Hacks I Survived 100 Days as a ALLAY in HARDCORE Minecraft Minecraft but there s Custom BoatsWhat if you SPAWN SUPER LONG ZOMBIE VS LONG CREEPER in Minecraft SUPER LONG MOB Adopted By TOP SECRET SPIES In Minecraft Minecraft 1.19 The Wild UpdateTesting Minecraft s Most Scary Mysteries I Had The RICHEST Date With PrestonPlayz trillionaire Minecraft But The World is Upside Down Minecraft But You Have 0.1 Health...One Night In POPPY S PLAYTIME In Minecraft I Survived 2 200 Days in HARDCORE Minecraft...OH NO Lavender Girl Became GHOST in MZRP MINECRAFT TROLL SERIESwhat if you create a BIG MULTI BOSS in MINECRAFTMinecraft but there s CRAZY TNTMinecraft But Wardens Beat The Game For You...What if you SPAWN SUPER LONG GOLEM VS LONG WITHER in Minecraft SUPER LONG MOB Adopted By GACHA STORIES In Minecraft What if you SPAWN SUPER LONG GOLEM OF 1000 BLOCKS in Minecraft LONGEST IRON GOLEM Minecraft But There s Custom Dragons...I Spent 100 Days In The Void minecraft Minecraft wait what meme part 144 realistic huggy wuggy Saving SPIDERMAN in Minecraft Becoming an EVIL AI in Minecraft Minecraft Live 2021 Update HighlightsSummoner Vs. Mowzie s Mobs Monsters in MinecraftMinecraft But Custom SQUID GAME Hearts Evolving WEREWOLF to GOD WEREW\n",
            "\n",
            "[101 | 550.84] loss=0.02 avg=0.42\n",
            "[102 | 555.19] loss=0.01 avg=0.42\n",
            "[103 | 559.53] loss=0.01 avg=0.41\n",
            "[104 | 563.85] loss=0.02 avg=0.40\n",
            "[105 | 568.20] loss=0.02 avg=0.40\n",
            "[106 | 572.54] loss=0.03 avg=0.39\n",
            "[107 | 576.86] loss=0.02 avg=0.39\n",
            "[108 | 581.21] loss=0.02 avg=0.38\n",
            "[109 | 585.55] loss=0.01 avg=0.37\n",
            "[110 | 589.90] loss=0.02 avg=0.37\n",
            "[111 | 594.23] loss=0.01 avg=0.36\n",
            "[112 | 598.58] loss=0.02 avg=0.36\n",
            "[113 | 602.91] loss=0.02 avg=0.35\n",
            "[114 | 607.26] loss=0.02 avg=0.35\n",
            "[115 | 611.59] loss=0.02 avg=0.34\n",
            "[116 | 615.94] loss=0.01 avg=0.34\n",
            "[117 | 620.28] loss=0.02 avg=0.33\n",
            "[118 | 624.63] loss=0.02 avg=0.33\n",
            "[119 | 628.97] loss=0.01 avg=0.33\n",
            "[120 | 633.32] loss=0.01 avg=0.32\n",
            "Saving checkpoint/run1/model-120\n",
            "======== SAMPLE 1 ========\n",
            "ONO MANO Monster School PS5 Walkthrough Gameplay Part 1 INTRO COD Campaign Call of Duty Warzone Battle Royal Season 5 Livestream ft. VERZUZ Gamez The Haunting Trailer Call of Duty Black Ops Cold War WarzoneCall of Duty Modern Warfare Warzone Gameplay Walkthrough Part 1 Campaign FULL GAME 4K 60FPS No CommentaryAtlanta FaZe vs Toronto Ultra Championship Weekend FinalsCall of Duty Modern Warfare Warzone Gameplay Week 4 Livestream ft. DAN WEISHER What if you SPAWN SUPER LONG ZOMBIE VS LONG CREEPER in Call of Duty Vanguard?Vanguard is the worst selling Call of Duty in 14 YEARS LMAOGoodbye MP40 Hello STEN Call Of Duty Vanguard.. COD Vanguard Best STEN Class Setup Evolution of Call of Duty Games 2003 2020Call of Duty Vanguard Angry ReviewCall of Duty Vanguard came out but did it have toCall of Duty Warzone Battle Royale Season 4 Livestream Part 3 At Level 50Gaining Custom DEALS in Call of Duty VanguardTrolling As FARLANDS MAN in Call of Duty VanguardTrolling NOOB VS PRO ANIMATIONMinecraft Making Call of Duty Modern Warfare Warzone Battle Royal Season 5 Livestream Part 4 Redstone Build Ep 29 Call of Duty VanguardCall of Duty Modern Warfare Warzone Battle Royal Season 5 Livestream Part 5 Zheng Da Shi Hall Main Lobby Code Name: TROLL BATTLE BATTLE DRACHA vs SQUADSJEV PLAYS CALL OF DUTY VANGUARD EXCLUSIVE FULL GAME EARLY ACCESS Call of Duty Warzone Battle Royal Season 5 Livestream Part 5 Zheng Da Shi Hall Main Lobby Code Name: SOLO VS. HUGGY WUGGY WIFE GAMEPLAYTELLS ME MORE Call of Duty Modern Warfare Warzone Battle Royal Season 5 Livestream Part 5 Zheng Da Shi Hall Main Lobby Code Name: VANGUARD ANI OUTSIDERS LEGO® Secretes de Call of Duty Land March of D DayMinecraft But With Multiplayer...EXCLUSIVE FULL GAME EARLY ACCESS Call of Duty Vanguard Multiplayer ReviewMinecraft But Immature MOB Adopted NEW Polina Map As POPPY WALES PlayBY KELLY HOFFMANN Lead Cinematic Call of Duty Vanguard Evolution of Call of Duty Games 2003 2020Call of Duty Modern Warfare Warzone Battle Royal Season 5 Livestream Part 5 Yale Hauling Game Over Island Quest To ESCAPE TROLL BATTLE BATTLE DOGS in Call of Duty VanguardCall of Duty Warzone Battle Royal Season 5 Livestream Part 5 Yale Hauling Game Over Island Quest To ESCAPE TROLL BATTLE BATTLE DOGS in VanguardCall of Duty Warzone Battle Royal Season 5 Livestream Part 5 New Line's Newest Battle Royal October 25 Call of Duty Warzone Battle Royal Season 5 Livestream Part 5 NEW ZOMBIE Minecraft Legendary Seeds Fact File Review Call of Duty VanguardCall of Duty Warzone Battle Royal Season 5 Livestream Part 5 New Line's Newest Battle Royal October 25 Call of Duty Modern Warfare Warzone Battle Royal Season 5 Livestream Part 5 New Line's Newest Battle Royal October 25 Call of Duty League Season Stage V Major Tournament Day 2He conseguido la NUCLEAR IMPOSIBLE de Call of Duty Vanguard AlphaSniper97 NEW WARZONE BEST HIGHLIGHTS Epic Funny Moments 609Call of Duty Modern Warfare Warzone Battle Royal Season 5 Livestream Part 5 New Line's Newest Battle Royal October 25 Call of Duty League Season Stage IV Major Tournament Day 4Stalingrad Demo Play through Call of Duty VanguardTIMTHETATMAN PLAYS CALL OF DUTY VANGUARD EXCLUSIVE FULL GAME EARLY ACCESS CALL OF DUTY VANGUARD Gameplay Walkthrough Part 1 COD Campaign Call of Duty Warzone Battle Royal Season 5 Livestream Part 5 NEW WARZONE BEST HIGHLIGHTS Epic Funny Moments 609Season Six Outro Cinematic Call of Duty Black Ops Cold War WarzoneCall of Duty Modern Warfare Warzone Battle Royal Season 5 Livestream Part 5 New Line's Newest Battle Royal October 25 Call of Duty League Season Stage V Major Tournament Day 4Stalingrad Demo Play through Call of Duty VanguardTIMTHETATMAN PLAYS CALL OF DUTY VANGUARD EXCLUSIVE FULL GAME EARLY ACCESS CALL OF DUTY VANGUARD Gameplay Walkthrough Part 1 COD Campaign CALL OF DUTY VANGUARD Gameplay Walkthrough Part 1 LONGEST ZOMBIE Minecraft Moment 1 TIME TRAVELLER FOUND THIS FREEZ ICE VILLAGE FROZEN HOUSE BASE Minecraft NOOB vs PRO vs HACKER 100 TROLLINGI Survived 100 Days as an IRON GOLEM in Call of Duty VanguardCall of Duty Modern Warfare Warzone Battle Royal Season 5 Livestream Part 5 NEW WARZONE\n",
            "\n",
            "[121 | 658.48] loss=0.01 avg=0.32\n",
            "[122 | 662.81] loss=0.01 avg=0.31\n",
            "[123 | 667.14] loss=0.02 avg=0.31\n",
            "[124 | 671.47] loss=0.01 avg=0.30\n",
            "[125 | 675.81] loss=0.01 avg=0.30\n",
            "[126 | 680.15] loss=0.01 avg=0.30\n",
            "[127 | 684.49] loss=0.02 avg=0.29\n",
            "[128 | 688.83] loss=0.02 avg=0.29\n",
            "[129 | 693.17] loss=0.02 avg=0.28\n",
            "[130 | 697.51] loss=0.02 avg=0.28\n",
            "[131 | 701.84] loss=0.02 avg=0.28\n",
            "[132 | 706.19] loss=0.03 avg=0.27\n",
            "[133 | 710.52] loss=0.01 avg=0.27\n",
            "[134 | 714.87] loss=0.01 avg=0.27\n",
            "[135 | 719.22] loss=0.01 avg=0.26\n",
            "[136 | 723.56] loss=0.02 avg=0.26\n",
            "[137 | 727.91] loss=0.01 avg=0.26\n",
            "[138 | 732.26] loss=0.01 avg=0.25\n",
            "[139 | 736.60] loss=0.02 avg=0.25\n",
            "[140 | 740.94] loss=0.02 avg=0.25\n",
            "Saving checkpoint/run1/model-140\n",
            "======== SAMPLE 1 ========\n",
            "TH MOB Adopted By GACHA STORIES In Minecraft What if you SPAWN SUPER LONG ZOMBIE VS LONG CREEPER in Minecraft SUPER LONG MOB Adopted By GACHA STORIES In Minecraft What if you SPAWN SUPER LONG GOLEM VS LONG WITHER in Minecraft SUPER LONG MOB Adopted By GACHA STORIES In Minecraft What if you SPAWN SUPER LONG GOLEM OF 1000 BLOCKS in Minecraft LONGEST IRON GOLEM in Minecraft SUPER LONG MOB Adopted By GACHA STORIES In Minecraft What if you SPAWN SUPER LONG GOLEM OF 1000 BLOCKS in BIG MOB Adopted By GACHA STORIES In Minecraft What if you SPAWN SUPER LONG GOLEM OF 1000 BLOCKS in MOB Adopted By GACHA STORIES In Minecraft What if you SPAWN SUPER LONG GOLEM OF 1000 BLOCKS in MOB Adopted By GACHA STORIES In Minecraft What if you SPAWN ZOMBIE MOB Adopted By GACHA INFINITY BOSSES IN MINECRAFT Minecraft How to play Hardcore Minecraft 12Minecraft Speedrunner Sim Packs Minecraft Myths That re Actually TrueMinecraft MAAR ALLES Is SUPER REALISTISCH I Built an OP Nether Hub in Minecraft Hardcore 29 Minecraft Myths That re Actually TrueThe Warden Animation vs. Minecraft Shorts Ep 26Minecraft Speedrunner Minecraft Live 2021 Myths That re Actually RealThe Warden Animation vs. Minecraft Shorts Ep 26Minecraft Speedrunner Minecraft Live 2021 Myths That re Actually Not Actually RealThe Warden Animation vs. Minecraft Shorts Ep 26Minecraft Speedrunner Minecraft Live 2021 Myths That re Actually Not Real\n",
            "\n",
            "The Warden Animation vs. Minecraft Shorts Ep 26Minecraft Speedrunner Minecraft Live 2021 Myths That re Actually RealThe Warden Animation vs. Minecraft Shorts Ep 26Minecraft Speedrunner Minecraft Live 2021 Myths That re Actually Not Real\n",
            "\n",
            "The Warden Animation vs. Minecraft Shorts Ep 26Minecraft Speedrunner Minecraft Live 2021 Myths That re Actually Not Real\n",
            "\n",
            "Minecraft Manhunt Becoming REALISTISCH I Built an OP Nether Hub in Minecraft Hardcore 29 Minecraft Myths That re Actually RealThe Warden Animation vs. Minecraft Shorts Ep 26Minecraft Speedrunner Minecraft Live 2021 Myths That re Actually Not Real\n",
            "\n",
            "Minecraft Manhunt Becoming LONGEST INFINITY BOSSES IN MINECRAFT Minecraft How to play Hardcore Minecraft 12 Minecraft Speedrunner Minecraft Live 2021 Myths That re Actually RealThe Warden Animation vs. Minecraft Shorts Ep 26Minecraft Speedrunner Minecraft Live 2021 Myths That re Actually Not Real\n",
            "\n",
            "The Warden Animation vs. Minecraft Shorts Ep 26Minecraft Speedrunner Minecraft Live 2021 Myths That re Actually Not Real\n",
            "\n",
            "The Warden Animation vs. Minecraft Shorts Ep 26Minecraft Speedrunner Minecraft Live 2021 Myths That re Actually Not Real\n",
            "\n",
            "The Warden Animation vs. Minecraft Shorts Ep 26Minecraft Speedrunner Minecraft Live 2021 Myths That re Actually Not Real<|endoftext|>This article is about the Mod. in Call of Duty Activision Call of Duty Modern Warfare Warzone 40 Gameplay HINDI Part 3 CALL OF DUTY VANGUARD SERIES Hypixel Far Cry Series VS XFINITY HINDI Part 1 CALL OF DUTY WARZONE 40 Gameplay HINDI Part 3 CALL OF DUTY SNIPER SERIES I CAUGT POPPY PLAYTIME IN GAME MONTHS Battle Royal NEW WARZONE BEST HIGHLIGHTS Epic Funny Moments 609Call of Duty Modern Warfare Warzone Xbox Series X Gameplay PS3 4K 40FPS No Commentary Posted 3/17/17 Call of Duty Warzone Xbox Series X Gameplay PS3 PS3 PS3 No Commentary NEW WARZONE BEST HIGHLIGHTS Epic Funny Moments 607Season Six Outro Cinematic Call of Duty Black Ops Cold War Warzone NEW WARZONE BEST HIGHLIGHTS Epic Funny Moments 608History Of Call Of Duty WW2 GamesCall of Duty Modern Warfare Warzone Xbox Series X Gameplay PS3 PS3 PS3 PS3 No Commentary NEW WARZONE BEST HIGHLIGHTS Epic Funny Moments 605Season Six Outro Cinematic Call of Duty Black Ops Cold War Warzone NEW WARZONE BEST HIGHLIGHTS Epic Funny Moments 586Season Six Outro Cinematic Call of Duty LAPA SMG Gameplay LIVE DR DISRESPECT CALL OF DUTY VANGUARD GAMEPLAY HINDI Part 1 CALL OF DUTY VANGUARD SERIES I CAUGT POPPY PLAYTIME IN GAME MONTHS Battle Royal NEW WARZONE BEST HIGHLIGHTS Epic Funny Moments 605Season Six Outro Cinematic Call of Duty LAPA SMG Gameplay LIVE DR DISRESPECT CALL OF DUTY VANGUARD GAMEPLAY HINDI Part 1 CALL OF DUTY VANGUARD SERIES I CAUGT POPPY PLAYTIME IN GAME MONTHS Battle Royal NEW WAR\n",
            "\n",
            "[141 | 766.59] loss=0.02 avg=0.24\n",
            "[142 | 770.93] loss=0.01 avg=0.24\n",
            "[143 | 775.26] loss=0.01 avg=0.24\n",
            "[144 | 779.61] loss=0.02 avg=0.24\n",
            "[145 | 783.95] loss=0.01 avg=0.23\n",
            "[146 | 788.28] loss=0.01 avg=0.23\n",
            "[147 | 792.64] loss=0.01 avg=0.23\n",
            "[148 | 796.99] loss=0.01 avg=0.22\n",
            "[149 | 801.32] loss=0.01 avg=0.22\n",
            "[150 | 805.65] loss=0.01 avg=0.22\n",
            "[151 | 809.98] loss=0.01 avg=0.22\n",
            "[152 | 814.33] loss=0.01 avg=0.21\n",
            "[153 | 818.65] loss=0.02 avg=0.21\n",
            "[154 | 823.00] loss=0.01 avg=0.21\n",
            "[155 | 827.32] loss=0.01 avg=0.21\n",
            "[156 | 831.66] loss=0.02 avg=0.20\n",
            "[157 | 836.00] loss=0.01 avg=0.20\n",
            "[158 | 840.33] loss=0.02 avg=0.20\n",
            "[159 | 844.68] loss=0.01 avg=0.20\n",
            "[160 | 849.02] loss=0.02 avg=0.19\n",
            "Saving checkpoint/run1/model-160\n",
            "======== SAMPLE 1 ========\n",
            " AU OF MINECRAFT I Survived 100 Days in HARDCORE Modded Minecraft 1.17.1... NEW I Spent 100 Days in a Frozen Zombie Apocalypse in MinecraftThe Warden Minecraft Movie Minecraft Animation Alex and SteveWorld s Most REALISTIC Minecraft TOO REAL Minecraft But The World Is Corrupted Dream Team Wins Minecraft ChampionshipMinecraft But With Custom Hunger Bars..REALISTIC MINECRAFT THE MOVIE 2021 How to BUILD BEST SMALLEST HOUSE in Minecraft Challenge 100 Trolling37 More Secret Minecraft Things You Didn t KnowMinecraft The 8 BEST Redstone Build Hacks I Survived 100 Days as a ALLAY in HARDCORE Minecraft Minecraft but there s Custom BoatsWhat if you SPAWN SUPER LONG ZOMBIE VS LONG CREEPER in Minecraft SUPER LONG MOB Adopted By TOP SECRET SPIES In Minecraft Minecraft 1.19 The Wild UpdateTesting Minecraft s Most Scary Mysteries I Had The RICHEST Date With PrestonPlayz trillionaire Minecraft But The World is Upside Down Minecraft But You Have 0.1 Health...One Night In POPPY S PLAYTIME In Minecraft I Survived 2 200 Days in HARDCORE Minecraft...OH NO Lavender Girl Became GHOST in MZRP MINECRAFT TROLL SERIESwhat if you create a BIG MULTI BOSS in MINECRAFTMinecraft but there s CRAZY TNTMinecraft But Wardens Beat The Game For You...What if you SPAWN SUPER LONG GOLEM VS LONG WITHER in Minecraft SUPER LONG MOB Adopted By GACHA STORIES In Minecraft What if you SPAWN SUPER LONG GOLEM OF 1000 BLOCKS in Minecraft LONGEST IRON GOLEM Minecraft But There s Custom Dragons...I Spent 100 Days In The Void minecraft Minecraft wait what meme part 144 realistic huggy wuggy Saving SPIDERMAN in Minecraft Becoming an EVIL AI in Minecraft Minecraft Live 2021 Update HighlightsSummoner Vs. Mowzie s Mobs Monsters in MinecraftMinecraft But Custom SQUID GAME Hearts Evolving WEREWOLF to GOD WEREWOLF in MINECRAFT Minecraft but there s Lucky Custom HeartsUsing The DAYCARE Mod In Minecraft Aphmau Has NO VOICE In Minecraft Testing Scary Minecraft Myths That re Actually TrueMinecraft MAAR ALLES Is SUPER REALISTISCH I Built an OP Nether Hub in Minecraft Hardcore 29 Minecraft But You Can Evolve Any Item..Minecraft s Scary Story of HerobrineScary Minecraft Myths That re Actually RealThe Warden Animation vs. Minecraft Shorts Ep 26Minecraft but there are Super ApplesI Spent 100 Days In The Void minecraft Minecraft wait what meme part 144 realistic huggy wuggy Saving SPIDERMAN in Minecraft Becoming an EVIL AI in Minecraft Minecraft Live 2021 Update HighlightsSummoner Vs. Mowzie s Mobs Monsters in MinecraftMinecraft But Custom SQUID GAME Hearts Evolving WEREWOLF to GOD WEREWOLF in MINECRAFT Minecraft but there s Lucky Custom HeartsUsing The DAYCARE Mod In Minecraft Aphmau Has NO VOICE In Minecraft Testing Scary Minecraft Myths That re Actually TrueMinecraft MAAR ALLES Is SUPER REALISTISCH I Built an OP Nether Hub in Minecraft Hardcore 29 Minecraft But You Can Evolve Any Item..Minecraft s Scary Story of HerobrineScary Minecraft Myths That re Actually RealThe Warden Animation vs. Minecraft Shorts Ep 26Minecraft but there are Super ApplesI Spent 100 Days In The Void minecraft Minecraft wait what meme part 144 realistic huggy wuggy Saving SPIDERMAN in Minecraft Becoming an EVIL AI in Minecraft Minecraft Live 2021 Update HighlightsSummoner Vs. Mowzie s Mobs Monsters in MinecraftMinecraft But Custom SQUID GAME Hearts Evolving WEREWOLF to GOD WEREWOLF in MINECRAFT Minecraft but there s Lucky Custom HeartsUsing The DAYCARE Mod In Minecraft Aphmau Has NO VOICE In Minecraft Testing Scary Minecraft Myths That re Actually True NEW WARZONE BEST HIGHLIGHTS Epic Funny Moments 609Call of Duty Modern Warfare Warzone Solo Gameplay No Commentary Reveal Trailer Call of Duty VanguardVanguard is the worst selling Call of Duty in 14 YEARS LMAOGoodbye MP40 Hello STEN Call Of Duty Vanguard.. COD Vanguard Best STEN Class Setup Evolution of Call of Duty Games 2003 2020Call of Duty Vanguard Angry ReviewCall of Duty Vanguard came out but did it have toCall of Duty Warzone Battle Royale Solo No Commentary Call of Duty Vanguard Reveal Trailer PS5 PS4CALL OF DUTY VANGUARD PS5 Walkthrough Gameplay Part 1 INTRO COD Campaign Call of Duty Warzone Battle Royal Solo Gameplay No Commentary CALL OF DUTY VANGUARD Gameplay Walkthrough Part 1 Campaign FULL GAME 4K 60FPS No CommentaryAtlanta FaZe vs Toronto Ultra Championship Weekend FinalsCall of Duty Vanguard ReviewFirst Time Playing Call Of Duty Mobile\n",
            "\n",
            "[161 | 874.11] loss=0.03 avg=0.19\n",
            "[162 | 878.44] loss=0.03 avg=0.19\n",
            "[163 | 882.78] loss=0.01 avg=0.19\n",
            "[164 | 887.12] loss=0.01 avg=0.19\n",
            "[165 | 891.44] loss=0.02 avg=0.18\n",
            "[166 | 895.77] loss=0.01 avg=0.18\n",
            "[167 | 900.12] loss=0.01 avg=0.18\n",
            "[168 | 904.48] loss=0.02 avg=0.18\n",
            "[169 | 908.81] loss=0.01 avg=0.18\n",
            "[170 | 913.13] loss=0.01 avg=0.17\n",
            "[171 | 917.49] loss=0.01 avg=0.17\n",
            "[172 | 921.84] loss=0.01 avg=0.17\n",
            "[173 | 926.18] loss=0.01 avg=0.17\n",
            "[174 | 930.53] loss=0.02 avg=0.17\n",
            "[175 | 934.87] loss=0.01 avg=0.16\n",
            "[176 | 939.21] loss=0.01 avg=0.16\n",
            "[177 | 943.55] loss=0.01 avg=0.16\n",
            "[178 | 947.89] loss=0.01 avg=0.16\n",
            "[179 | 952.24] loss=0.01 avg=0.16\n",
            "[180 | 956.58] loss=0.01 avg=0.16\n",
            "Saving checkpoint/run1/model-180\n",
            "======== SAMPLE 1 ========\n",
            " EVOBES Multiplayer MOB Adopted By GOD Minecraft Most REALISTIC Minecraft TOO REAL Minecraft But The World Is Corrupted Dream Team Wins Minecraft ChampionshipMinecraft Speedrunner VS 5 Hunters FINALEThe Story of Minecraft s FIRST Piglin...Testing Scary Minecraft Seeds That Are Actually RealMinecraft But I Can Mine Anything...GETTING TRIDENTS EASILY Minecraft Guide Minecraft 1.17 Tutorial Lets Play 171 Can you beat Minecraft in Adventure Mode I Made my Friends Minecraft world way too Realistic...Monster School BABY MONSTERS COOKING 2 CHALLENGE ALL EPISODE Minecraft AnimationUSING the INFINITY HUNTER BLADE in Insane CraftMinecraft But I CONTROL TIME...47 Minecraft Item Facts You Possibly Didn t KnowMinecraft But It Gets More Realistic...Minecraft HELP SAVE DEAD MC NAVEED FROM DEADLY MONSTERS MOD BUILD A HOUSE Minecraft ModsMinecraft Live 2021I Survived 100 Days on a STAR in Minecraft.. Here s What Happened..Minecraft But I Can Draw Any Item...Minecraft but items can be CombinedMinecraft s Scary Story Of The Lunar Moon...This Hardcore Minecraft Village is Unfindable Minecraft But The World Is Lucky Blocks...Minecraft but there are Custom PunchesCan You ESCAPE This Bedrock Box in 24 Hours Minecraft HUGGY WUGGY KULES VS SQU D GAME KULES MinecraftMinecraft But There Are Custom GODDESS Hearts Minecraft But With Custom Icons...Trolling As FARLANDS MAN in MinecraftI Mined For Over 50 Hours In The Nether In Minecraft Hardcore 5 TOP 250 LUCKIEST CLIPS IN MINECRAFTMinecraft Live 2021 A Look at The Wild UpdateThe Story of Minecraft s Most Useless Villager..Encontramos un COFRE del END GIGANTE en una ALDEA de MINECRAFT Minecraft HOW to play NETHER MONSTER GHAST SKELETON WITHER ZOMBIE PIGMAN NOOB VS PRO ANIMATIONMinecraft But Aliens Rule The World... The RevengeWAIT WHAT Minecraft 24Minecraft wait what meme part 147 Ultra Creeper Titan MONSTER SCHOOL POOR BABY ZOMBIE AND GOOD HEROBRINE SAD MINECRAFT ANIMATIONMinecraft BUT... I have the INFINITY GAUNTLET the NEW Far Lands...KISSY MISSY HUGGY WUGGY WIFE HOUSE BUILD CHALLENGE NOOB vs PRO vs HACKER vs GOD Minecraft AnimationMinecraft wait what meme part 40 realistic minecraft creeperMonster School Hulk Have Good Father Hulk And Bad Uncle Sad Story Minecraft AnimationTIME TO GO BACK ON EARTH AFTER FIGHT WITH ALIEN MOON TEDDY GAMINGME PASO MINECRAFT SIENDO UN ICEOLOGER Testing INSANE Minecraft Mining Hacks How I Spent 1 000 To End A Dumb Minecraft WarHuggy Wuggy vs SQUID GAME in Minecraft Poppy Playtime Visiting Jack s Island In Hypixel Skyblock MinecraftTesting Minecraft Block Facts That Broke The InternetHeeko Son Vs Squid Guard Revenge In Squid Game Monster School Minecraft AnimationMinecraft Manhunt But Trash Gives OP ItemsWhat if you SPAWN SUPER LONG ZOMBIE OF 1000 BLOCKS in Minecraft LONGEST ZOMBIE Minecraft I CAUGT POPPY PLAYTIME WATCHIGN ME SLEEP Ps3 Xbox360 PS4 XboxOne PE MCPE Playing SQUID GAME in Minecraft SHOPPING District er ffnet Regelwerk mein SHOP Minecraft Craft Attack 9 20I Survived 100 Days as an IRON GOLEM in MinecraftNOOB FOUND THIS FREEZ ICE VILLAGE FROZEN HOUSE BASE Minecraft NOOB vs PRO vs HACKER 100 TROLLINGI Survived 2 100 Days in HARDCORE Minecraft...I Survived 100 Days as a TIME TRAVELLER in Hardcore Minecraft... Here s What HappenedTesting Viral Minecraft Secret Bases You ll NEVER FindI tested them in Minecraft early and so should you...Minecraft But There s Custom SUPERHERO HeartsWhat if you SPAWN SUPER LONG WITHER OF 1000 BLOCKS in Minecraft LONGEST WITHER BENX REAGIERT AUF MEGA MEGA REALISTISCHES MINECRAFT I Survived 100 Days in HARDCORE Modded Minecraft 1.17.1... NEW I Spent 100 Days in a Frozen Zombie Apocalypse in MinecraftThe Warden Minecraft Movie Minecraft Animation Alex and SteveWorld s Most REALISTIC Minecraft TOO REAL Minecraft But The World Is Corrupted Dream Team Wins Minecraft ChampionshipMinecraft But With Custom Hunger Bars..REALISTIC MINECRAFT THE MOVIE 2021 How to BUILD BEST SMALLEST HOUSE in Minecraft Challenge 100 Trolling37 More Secret Minecraft Things You Didn t KnowMinecraft The 10 BEST Redstone Build Hacks I Survived 100 Days as a ALLAY in HARDCORE Minecraft Minecraft but there s Custom BoatsWhat if you SPAWN SUPER LONG ZOMBIE VS LONG CREEP\n",
            "\n",
            "[181 | 981.89] loss=0.02 avg=0.15\n",
            "[182 | 986.27] loss=0.01 avg=0.15\n",
            "[183 | 990.65] loss=0.01 avg=0.15\n",
            "[184 | 995.03] loss=0.01 avg=0.15\n",
            "[185 | 999.43] loss=0.01 avg=0.15\n",
            "[186 | 1003.80] loss=0.01 avg=0.15\n",
            "[187 | 1008.19] loss=0.01 avg=0.14\n",
            "[188 | 1012.58] loss=0.01 avg=0.14\n",
            "[189 | 1016.96] loss=0.01 avg=0.14\n",
            "[190 | 1021.35] loss=0.01 avg=0.14\n",
            "[191 | 1025.73] loss=0.01 avg=0.14\n",
            "[192 | 1030.11] loss=0.01 avg=0.14\n",
            "[193 | 1034.50] loss=0.01 avg=0.13\n",
            "[194 | 1038.89] loss=0.01 avg=0.13\n",
            "[195 | 1043.27] loss=0.01 avg=0.13\n",
            "[196 | 1047.66] loss=0.02 avg=0.13\n",
            "[197 | 1052.04] loss=0.01 avg=0.13\n",
            "[198 | 1056.43] loss=0.01 avg=0.13\n",
            "[199 | 1060.81] loss=0.02 avg=0.13\n",
            "[200 | 1065.20] loss=0.01 avg=0.13\n",
            "Saving checkpoint/run1/model-200\n"
          ]
        }
      ]
    },
    {
      "cell_type": "code",
      "metadata": {
        "id": "6ztPyjhrOM2v",
        "colab": {
          "base_uri": "https://localhost:8080/"
        },
        "outputId": "5c8b8fa7-d029-4936-a101-339ecabd87f5"
      },
      "source": [
        "gpt2.generate(\n",
        "    sess,\n",
        "    length=20,\n",
        "    temperature=0.9,\n",
        "    nsamples=5,\n",
        "    batch_size=5,\n",
        "    top_k=40\n",
        ")"
      ],
      "execution_count": null,
      "outputs": [
        {
          "output_type": "stream",
          "name": "stdout",
          "text": [
            "The world is full of monsters... But there are Super ApplesI Mined For Over 50 Hours\n",
            "====================\n",
            "I Spent 20 Days In The Void minecraft Minecraft wait what meme part 144 realistic huggy w\n",
            "====================\n",
            "He has been in a coma for 40 days but is now 100% conscious...He came here in\n",
            "====================\n",
            "Call of Duty League 2021 Season Stage IV Major Tournament Day 4TIMTHETATMAN PLAYS\n",
            "====================\n",
            "This is the worst selling Xbox Games of 2011 in Xbox Live Gold Members...This is the worst selling\n",
            "====================\n"
          ]
        }
      ]
    }
  ]
}